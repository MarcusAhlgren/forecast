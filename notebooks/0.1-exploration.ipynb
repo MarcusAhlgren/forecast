{
 "cells": [
  {
   "cell_type": "markdown",
   "metadata": {},
   "source": [
    "# Notebook summary\n",
    "\n",
    "This case features a time series problem where the aim is to produce a predictive model that can forecast future amounts of purchases. In order to do so we will perform data exploration in this notebook to understand the dataset better. The aim of the exploration is to give us hints which models might be appropriate and to understand which data processing should be done before feeding it into the model. More specifically we will go over the following items: \n",
    "\n",
    "- Amount of data\n",
    "\n",
    "- Missing values\n",
    "\n",
    "- Visualization\n",
    "\n",
    "- Trend/seasonality\n",
    "\n",
    "- Time series analysis"
   ]
  },
  {
   "cell_type": "markdown",
   "metadata": {},
   "source": [
    "# Import Packages"
   ]
  },
  {
   "cell_type": "code",
   "execution_count": 57,
   "metadata": {},
   "outputs": [],
   "source": [
    "import datetime\n",
    "import numpy as np\n",
    "import pandas as pd\n",
    "import matplotlib.pyplot as plt\n",
    "import statsmodels.api as sm\n",
    "from statsmodels.tsa.stattools import adfuller"
   ]
  },
  {
   "cell_type": "markdown",
   "metadata": {},
   "source": [
    "# Import Data"
   ]
  },
  {
   "cell_type": "code",
   "execution_count": 2,
   "metadata": {},
   "outputs": [],
   "source": [
    "df = pd.read_csv(\"../data/raw/data.csv\", sep = \";\", parse_dates = [\"date\"])"
   ]
  },
  {
   "cell_type": "code",
   "execution_count": 3,
   "metadata": {},
   "outputs": [
    {
     "data": {
      "text/html": [
       "<div>\n",
       "<style scoped>\n",
       "    .dataframe tbody tr th:only-of-type {\n",
       "        vertical-align: middle;\n",
       "    }\n",
       "\n",
       "    .dataframe tbody tr th {\n",
       "        vertical-align: top;\n",
       "    }\n",
       "\n",
       "    .dataframe thead th {\n",
       "        text-align: right;\n",
       "    }\n",
       "</style>\n",
       "<table border=\"1\" class=\"dataframe\">\n",
       "  <thead>\n",
       "    <tr style=\"text-align: right;\">\n",
       "      <th></th>\n",
       "      <th>date</th>\n",
       "      <th>purchase_amount</th>\n",
       "    </tr>\n",
       "  </thead>\n",
       "  <tbody>\n",
       "    <tr>\n",
       "      <th>0</th>\n",
       "      <td>2010-01-01</td>\n",
       "      <td>83760.18</td>\n",
       "    </tr>\n",
       "    <tr>\n",
       "      <th>1</th>\n",
       "      <td>2010-02-01</td>\n",
       "      <td>96292.13</td>\n",
       "    </tr>\n",
       "    <tr>\n",
       "      <th>2</th>\n",
       "      <td>2010-03-01</td>\n",
       "      <td>105984.26</td>\n",
       "    </tr>\n",
       "    <tr>\n",
       "      <th>3</th>\n",
       "      <td>2010-04-01</td>\n",
       "      <td>109916.18</td>\n",
       "    </tr>\n",
       "    <tr>\n",
       "      <th>4</th>\n",
       "      <td>2010-05-01</td>\n",
       "      <td>109057.51</td>\n",
       "    </tr>\n",
       "    <tr>\n",
       "      <th>...</th>\n",
       "      <td>...</td>\n",
       "      <td>...</td>\n",
       "    </tr>\n",
       "    <tr>\n",
       "      <th>127</th>\n",
       "      <td>2020-08-01</td>\n",
       "      <td>NaN</td>\n",
       "    </tr>\n",
       "    <tr>\n",
       "      <th>128</th>\n",
       "      <td>2020-09-01</td>\n",
       "      <td>NaN</td>\n",
       "    </tr>\n",
       "    <tr>\n",
       "      <th>129</th>\n",
       "      <td>2020-10-01</td>\n",
       "      <td>NaN</td>\n",
       "    </tr>\n",
       "    <tr>\n",
       "      <th>130</th>\n",
       "      <td>2020-11-01</td>\n",
       "      <td>NaN</td>\n",
       "    </tr>\n",
       "    <tr>\n",
       "      <th>131</th>\n",
       "      <td>2020-12-01</td>\n",
       "      <td>NaN</td>\n",
       "    </tr>\n",
       "  </tbody>\n",
       "</table>\n",
       "<p>132 rows × 2 columns</p>\n",
       "</div>"
      ],
      "text/plain": [
       "          date  purchase_amount\n",
       "0   2010-01-01         83760.18\n",
       "1   2010-02-01         96292.13\n",
       "2   2010-03-01        105984.26\n",
       "3   2010-04-01        109916.18\n",
       "4   2010-05-01        109057.51\n",
       "..         ...              ...\n",
       "127 2020-08-01              NaN\n",
       "128 2020-09-01              NaN\n",
       "129 2020-10-01              NaN\n",
       "130 2020-11-01              NaN\n",
       "131 2020-12-01              NaN\n",
       "\n",
       "[132 rows x 2 columns]"
      ]
     },
     "execution_count": 3,
     "metadata": {},
     "output_type": "execute_result"
    }
   ],
   "source": [
    "df"
   ]
  },
  {
   "cell_type": "markdown",
   "metadata": {},
   "source": [
    "The data only contains two columns, the date and the purchase amount. In total we have 132 months in the dataset. However, the purchase amount column contains null values for some months. Let's see how many they are. "
   ]
  },
  {
   "cell_type": "markdown",
   "metadata": {},
   "source": [
    "# Missing Values"
   ]
  },
  {
   "cell_type": "code",
   "execution_count": 4,
   "metadata": {},
   "outputs": [
    {
     "data": {
      "text/plain": [
       "date                0\n",
       "purchase_amount    12\n",
       "dtype: int64"
      ]
     },
     "execution_count": 4,
     "metadata": {},
     "output_type": "execute_result"
    }
   ],
   "source": [
    "df.isnull().sum()"
   ]
  },
  {
   "cell_type": "markdown",
   "metadata": {},
   "source": [
    "There are 12 months of missing data for purchase amount(the last 12 months). That means in total we have 130 months(samples) to train our model."
   ]
  },
  {
   "cell_type": "markdown",
   "metadata": {},
   "source": [
    "# Visualization\n",
    "The fastest way to get to know the data is through visualization. Let's plot it!"
   ]
  },
  {
   "cell_type": "code",
   "execution_count": 5,
   "metadata": {},
   "outputs": [
    {
     "data": {
      "image/png": "[encoded data removed]",
      "text/plain": [
       "<Figure size 864x432 with 1 Axes>"
      ]
     },
     "metadata": {
      "needs_background": "light"
     },
     "output_type": "display_data"
    }
   ],
   "source": [
    "fig, ax = plt.subplots(figsize = (12, 6))\n",
    "ax.plot(df[\"date\"], df[\"purchase_amount\"])\n",
    "ax.set_title(\"Time Series, Purchase Amount\")\n",
    "ax.set_xlabel(\"Date\")\n",
    "ax.set_ylabel(\"Purchase Amount\")\n",
    "plt.show()"
   ]
  },
  {
   "cell_type": "markdown",
   "metadata": {},
   "source": [
    "From the plot it is evident that we are not working with a stationary time series since there is an upward trend. The series also seems to exhibit a cyclical behavior where each cycle is roughly 2 years. "
   ]
  },
  {
   "cell_type": "markdown",
   "metadata": {},
   "source": [
    "# Time Series Analysis\n",
    "\n",
    "It seems a seasonal ARIMA(SARIMA) model could be appropriate for the data. The SARIMA model is defined by the parameters $(p, d, q)\\mathrm{x}(P, D, Q, s)$ where \n",
    "\n",
    "- p, P are the number of autoregressive(AR) terms.\n",
    "\n",
    "- d, D are the orders of integration(differencing).\n",
    "\n",
    "- q, Q number of moving average terms.\n",
    "\n",
    "- s is the number of observations in a season. \n",
    "\n",
    "There are two ways to find a good set of hyperparameters. The first way is through inspection of ACF and PACF plots. However, from experience it is not always the case that you will pick the right set hyperparameters in the sense that the will produce the best out of fold predictions.\n",
    "\n",
    "Instead we will perform hyperparameter search through bayesian optimization with the Optuna library. This automates the search for the right hyperparameters and it tends to produce better results in less time compared to grid search and random search.\n",
    "\n",
    "The differencing parameter $d$ is used to transform non-stationary series to stationary ones. Let's start to analyze the stationary of the series.\n",
    "\n",
    "## Stationarity"
   ]
  },
  {
   "cell_type": "markdown",
   "metadata": {},
   "source": [
    "We assumed from our previous plot that the time series is non-stationary, we can confirm this with the Augmented Dickey-Fuller Test. The null hypothesis for this test is that the series is non-stationary. We reject this hypothesis if our p-value is less than 0.05."
   ]
  },
  {
   "cell_type": "code",
   "execution_count": 47,
   "metadata": {},
   "outputs": [],
   "source": [
    "def adf_test(time_series):\n",
    "    adf = adfuller(time_series)\n",
    "    stats = pd.Series(adf[0:4], index = [\"Test Statistic\",\"p-value\",\"#Lags Used\", \"#Observations Used\"])\n",
    "    return stats"
   ]
  },
  {
   "cell_type": "code",
   "execution_count": 51,
   "metadata": {},
   "outputs": [
    {
     "data": {
      "text/plain": [
       "Test Statistic         -1.909396\n",
       "p-value                 0.327654\n",
       "#Lags Used             13.000000\n",
       "#Observations Used    106.000000\n",
       "dtype: float64"
      ]
     },
     "execution_count": 51,
     "metadata": {},
     "output_type": "execute_result"
    }
   ],
   "source": [
    "adf = adf_test(df[\"purchase_amount\"].dropna())\n",
    "adf"
   ]
  },
  {
   "cell_type": "markdown",
   "metadata": {},
   "source": [
    "When we run the statistical test on the raw time series we get a p-value of 0.33. Therefore, we do not reject the hypothesis of non-stationary data. Let's take the first order differences of the series and see if we get different results."
   ]
  },
  {
   "cell_type": "code",
   "execution_count": 53,
   "metadata": {},
   "outputs": [
    {
     "data": {
      "text/plain": [
       "Test Statistic       -9.493114e+00\n",
       "p-value               3.608122e-16\n",
       "#Lags Used            1.300000e+01\n",
       "#Observations Used    1.050000e+02\n",
       "dtype: float64"
      ]
     },
     "execution_count": 53,
     "metadata": {},
     "output_type": "execute_result"
    }
   ],
   "source": [
    "adf = adf_test(df[\"purchase_amount\"].diff(1).dropna())\n",
    "adf"
   ]
  },
  {
   "cell_type": "markdown",
   "metadata": {},
   "source": [
    "After taking the first order difference we can reject the null hypothesis. Thus, we can expect that setting $d=1$ would be a suitable option."
   ]
  },
  {
   "cell_type": "markdown",
   "metadata": {},
   "source": [
    "# Notebook Conclusion\n",
    "\n",
    "- The data contains 130 samples of monthly purchase amount.\n",
    "\n",
    "- Since there are few samples in the dataset we will exclude more complex techniques such as deep learning with RNN/LSTM architectures.\n",
    "\n",
    "- The series is steadily trending upwards.\n",
    "\n",
    "- The series seems cyclical with a 2 year period.\n",
    "\n",
    "- The series is nonstationary which can be solved with differencing."
   ]
  }
 ],
 "metadata": {
  "kernelspec": {
   "display_name": "Python 3",
   "language": "python",
   "name": "python3"
  },
  "language_info": {
   "codemirror_mode": {
    "name": "ipython",
    "version": 3
   },
   "file_extension": ".py",
   "mimetype": "text/x-python",
   "name": "python",
   "nbconvert_exporter": "python",
   "pygments_lexer": "ipython3",
   "version": "3.7.7"
  }
 },
 "nbformat": 4,
 "nbformat_minor": 4
}
