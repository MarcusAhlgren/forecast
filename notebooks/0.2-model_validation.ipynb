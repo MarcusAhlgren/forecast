{
 "cells": [
  {
   "cell_type": "markdown",
   "metadata": {},
   "source": [
    "# Notebook Summary\n",
    "\n",
    "The aim of this notebook is to find the best predictive model given the data. We do this by setting up a validation schema and evaluate different models and hyperparameters based on their out of fold errors. The hyperparameter search is performed with Optuna(https://optuna.org/) which utilizez bayesian optimization.\n",
    "\n",
    "We use a walkforward validation schema in order to prevent data leakage. The image below shows an example of such schema where blue indicates training data and red indicates validation data. In our case we'll use the following folds:\n",
    "\n",
    "- Fold 1: Train: [2010-2016], Validation: 2017\n",
    "- Fold 2: Train: [2010-2017], Validation: 2018\n",
    "- Fold 3: Train: [2010-2018], Validation: 2019\n",
    "\n",
    "Once we have found the hyperparameters with the lowest out of fold error we'll train on 2010-2019 and finally submit predictions for 2020. The error metric we'll use is the root mean squared error."
   ]
  },
  {
   "cell_type": "markdown",
   "metadata": {},
   "source": [
    "<img src=\"validation.png\" width=\"600\">"
   ]
  },
  {
   "cell_type": "markdown",
   "metadata": {},
   "source": [
    "# Import Packages and Modules"
   ]
  },
  {
   "cell_type": "code",
   "execution_count": 1,
   "metadata": {},
   "outputs": [],
   "source": [
    "import joblib\n",
    "import optuna\n",
    "import sys\n",
    "import pandas as pd\n",
    "import matplotlib.pyplot as plt\n",
    "sys.path.append(\"..\")\n",
    "from src.validate_model import rmse, SARIMA, Pipeline, save_model"
   ]
  },
  {
   "cell_type": "markdown",
   "metadata": {},
   "source": [
    "# Load Data"
   ]
  },
  {
   "cell_type": "code",
   "execution_count": 2,
   "metadata": {},
   "outputs": [],
   "source": [
    "train = pd.read_pickle(\"../data/processed/train.pkl\")\n",
    "test = pd.read_pickle(\"../data/processed/test.pkl\")"
   ]
  },
  {
   "cell_type": "markdown",
   "metadata": {},
   "source": [
    "# Hyperparameter Optimization "
   ]
  },
  {
   "cell_type": "code",
   "execution_count": 3,
   "metadata": {},
   "outputs": [],
   "source": [
    "#create pipeline instance\n",
    "pl = Pipeline(train, test)"
   ]
  },
  {
   "cell_type": "code",
   "execution_count": 4,
   "metadata": {},
   "outputs": [
    {
     "name": "stderr",
     "output_type": "stream",
     "text": [
      "\u001b[32m[I 2020-10-27 11:34:36,575]\u001b[0m A new study created in memory with name: no-name-a9951bac-05fd-4daa-a7a4-d5c423660789\u001b[0m\n"
     ]
    },
    {
     "name": "stdout",
     "output_type": "stream",
     "text": [
      "Fold 0 loss: 11937.664939324499\n",
      "Fold 1 loss: 9378.265705017055\n"
     ]
    },
    {
     "name": "stderr",
     "output_type": "stream",
     "text": [
      "\u001b[32m[I 2020-10-27 11:34:38,832]\u001b[0m Trial 0 finished with value: 9741.191287219333 and parameters: {'p': 2, 'd': 1, 'q': 0, 'P': 1, 'D': 1, 'Q': 1}. Best is trial 0 with value: 9741.191287219333.\u001b[0m\n"
     ]
    },
    {
     "name": "stdout",
     "output_type": "stream",
     "text": [
      "Fold 2 loss: 7907.643217316443\n",
      "Fold 0 loss: 11587.383236307547\n",
      "Fold 1 loss: 8138.892456089883\n"
     ]
    },
    {
     "name": "stderr",
     "output_type": "stream",
     "text": [
      "\u001b[32m[I 2020-10-27 11:34:43,266]\u001b[0m Trial 1 finished with value: 9366.071077990788 and parameters: {'p': 2, 'd': 1, 'q': 1, 'P': 2, 'D': 1, 'Q': 0}. Best is trial 1 with value: 9366.071077990788.\u001b[0m\n"
     ]
    },
    {
     "name": "stdout",
     "output_type": "stream",
     "text": [
      "Fold 2 loss: 8371.937541574935\n",
      "Fold 0 loss: 11557.405014919168\n",
      "Fold 1 loss: 9586.392300899965\n"
     ]
    },
    {
     "name": "stderr",
     "output_type": "stream",
     "text": [
      "\u001b[32m[I 2020-10-27 11:34:44,043]\u001b[0m Trial 2 finished with value: 10134.601094205414 and parameters: {'p': 0, 'd': 1, 'q': 2, 'P': 1, 'D': 1, 'Q': 0}. Best is trial 1 with value: 9366.071077990788.\u001b[0m\n"
     ]
    },
    {
     "name": "stdout",
     "output_type": "stream",
     "text": [
      "Fold 2 loss: 9260.005966797109\n",
      "Fold 0 loss: 4715.4685965998815\n",
      "Fold 1 loss: 6780.4959679110125\n"
     ]
    },
    {
     "name": "stderr",
     "output_type": "stream",
     "text": [
      "\u001b[32m[I 2020-10-27 11:34:44,322]\u001b[0m Trial 3 finished with value: 5640.904700692085 and parameters: {'p': 0, 'd': 1, 'q': 0, 'P': 0, 'D': 2, 'Q': 0}. Best is trial 3 with value: 5640.904700692085.\u001b[0m\n"
     ]
    },
    {
     "name": "stdout",
     "output_type": "stream",
     "text": [
      "Fold 2 loss: 5426.749537565362\n",
      "Fold 0 loss: 4684.809367999568\n",
      "Fold 1 loss: 6397.1321165953095\n"
     ]
    },
    {
     "name": "stderr",
     "output_type": "stream",
     "text": [
      "\u001b[32m[I 2020-10-27 11:34:48,998]\u001b[0m Trial 4 finished with value: 4589.505891790481 and parameters: {'p': 2, 'd': 1, 'q': 1, 'P': 1, 'D': 2, 'Q': 0}. Best is trial 4 with value: 4589.505891790481.\u001b[0m\n"
     ]
    },
    {
     "name": "stdout",
     "output_type": "stream",
     "text": [
      "Fold 2 loss: 2686.5761907765655\n",
      "Fold 0 loss: 52287.46551160678\n",
      "Fold 1 loss: 41201.94965297208\n"
     ]
    },
    {
     "name": "stderr",
     "output_type": "stream",
     "text": [
      "\u001b[32m[I 2020-10-27 11:34:51,104]\u001b[0m Trial 5 finished with value: 38182.4889785124 and parameters: {'p': 1, 'd': 2, 'q': 0, 'P': 0, 'D': 1, 'Q': 2}. Best is trial 4 with value: 4589.505891790481.\u001b[0m\n"
     ]
    },
    {
     "name": "stdout",
     "output_type": "stream",
     "text": [
      "Fold 2 loss: 21058.051770958362\n",
      "Fold 0 loss: 5802.666138224155\n",
      "Fold 1 loss: 19362.901978599195\n"
     ]
    },
    {
     "name": "stderr",
     "output_type": "stream",
     "text": [
      "\u001b[32m[I 2020-10-27 11:34:59,509]\u001b[0m Trial 6 finished with value: 10553.521943557815 and parameters: {'p': 1, 'd': 2, 'q': 2, 'P': 0, 'D': 1, 'Q': 2}. Best is trial 4 with value: 4589.505891790481.\u001b[0m\n"
     ]
    },
    {
     "name": "stdout",
     "output_type": "stream",
     "text": [
      "Fold 2 loss: 6494.997713850095\n",
      "Fold 0 loss: 11169.05686120556\n",
      "Fold 1 loss: 13015.044957498356\n"
     ]
    },
    {
     "name": "stderr",
     "output_type": "stream",
     "text": [
      "\u001b[32m[I 2020-10-27 11:35:07,157]\u001b[0m Trial 7 finished with value: 11925.485847520426 and parameters: {'p': 1, 'd': 1, 'q': 0, 'P': 1, 'D': 2, 'Q': 1}. Best is trial 4 with value: 4589.505891790481.\u001b[0m\n"
     ]
    },
    {
     "name": "stdout",
     "output_type": "stream",
     "text": [
      "Fold 2 loss: 11592.355723857361\n",
      "Fold 0 loss: 10186.685728834298\n",
      "Fold 1 loss: 16231.646247211936\n"
     ]
    },
    {
     "name": "stderr",
     "output_type": "stream",
     "text": [
      "\u001b[32m[I 2020-10-27 11:35:17,861]\u001b[0m Trial 8 finished with value: 12182.298277481868 and parameters: {'p': 1, 'd': 1, 'q': 1, 'P': 2, 'D': 2, 'Q': 1}. Best is trial 4 with value: 4589.505891790481.\u001b[0m\n"
     ]
    },
    {
     "name": "stdout",
     "output_type": "stream",
     "text": [
      "Fold 2 loss: 10128.562856399367\n",
      "Fold 0 loss: 22399.081833524833\n",
      "Fold 1 loss: 5995.039957020974\n"
     ]
    },
    {
     "name": "stderr",
     "output_type": "stream",
     "text": [
      "\u001b[32m[I 2020-10-27 11:35:21,588]\u001b[0m Trial 9 finished with value: 14266.290580906734 and parameters: {'p': 1, 'd': 2, 'q': 2, 'P': 0, 'D': 2, 'Q': 0}. Best is trial 4 with value: 4589.505891790481.\u001b[0m\n"
     ]
    },
    {
     "name": "stdout",
     "output_type": "stream",
     "text": [
      "Fold 2 loss: 14404.749952174398\n",
      "Fold 0 loss: 7696.378634557184\n",
      "Fold 1 loss: 15594.289869116215\n"
     ]
    },
    {
     "name": "stderr",
     "output_type": "stream",
     "text": [
      "\u001b[32m[I 2020-10-27 11:35:30,399]\u001b[0m Trial 10 finished with value: 8501.131378178696 and parameters: {'p': 2, 'd': 2, 'q': 1, 'P': 2, 'D': 2, 'Q': 0}. Best is trial 4 with value: 4589.505891790481.\u001b[0m\n"
     ]
    },
    {
     "name": "stdout",
     "output_type": "stream",
     "text": [
      "Fold 2 loss: 2212.7256308626897\n",
      "Fold 0 loss: 4131.826676585662\n",
      "Fold 1 loss: 6436.404090316624\n"
     ]
    },
    {
     "name": "stderr",
     "output_type": "stream",
     "text": [
      "\u001b[32m[I 2020-10-27 11:35:33,447]\u001b[0m Trial 11 finished with value: 4768.775561996761 and parameters: {'p': 0, 'd': 1, 'q': 1, 'P': 1, 'D': 2, 'Q': 0}. Best is trial 4 with value: 4589.505891790481.\u001b[0m\n"
     ]
    },
    {
     "name": "stdout",
     "output_type": "stream",
     "text": [
      "Fold 2 loss: 3738.0959190879976\n",
      "Fold 0 loss: 4131.826676585662\n",
      "Fold 1 loss: 6436.404090316624\n"
     ]
    },
    {
     "name": "stderr",
     "output_type": "stream",
     "text": [
      "\u001b[32m[I 2020-10-27 11:35:36,462]\u001b[0m Trial 12 finished with value: 4768.775561996761 and parameters: {'p': 0, 'd': 1, 'q': 1, 'P': 1, 'D': 2, 'Q': 0}. Best is trial 4 with value: 4589.505891790481.\u001b[0m\n"
     ]
    },
    {
     "name": "stdout",
     "output_type": "stream",
     "text": [
      "Fold 2 loss: 3738.0959190879976\n",
      "Fold 0 loss: 12623.482246036749\n",
      "Fold 1 loss: 6489.491173518759\n"
     ]
    },
    {
     "name": "stderr",
     "output_type": "stream",
     "text": [
      "\u001b[32m[I 2020-10-27 11:35:40,954]\u001b[0m Trial 13 finished with value: 8677.082652422432 and parameters: {'p': 0, 'd': 1, 'q': 1, 'P': 1, 'D': 2, 'Q': 1}. Best is trial 4 with value: 4589.505891790481.\u001b[0m\n"
     ]
    },
    {
     "name": "stdout",
     "output_type": "stream",
     "text": [
      "Fold 2 loss: 6918.274537711785\n",
      "Fold 0 loss: 4684.809367999568\n",
      "Fold 1 loss: 6397.1321165953095\n"
     ]
    },
    {
     "name": "stderr",
     "output_type": "stream",
     "text": [
      "\u001b[32m[I 2020-10-27 11:35:45,746]\u001b[0m Trial 14 finished with value: 4589.505891790481 and parameters: {'p': 2, 'd': 1, 'q': 1, 'P': 1, 'D': 2, 'Q': 0}. Best is trial 4 with value: 4589.505891790481.\u001b[0m\n"
     ]
    },
    {
     "name": "stdout",
     "output_type": "stream",
     "text": [
      "Fold 2 loss: 2686.5761907765655\n",
      "Fold 0 loss: 18596.027728275083\n",
      "Fold 1 loss: 33988.02623201826\n"
     ]
    },
    {
     "name": "stderr",
     "output_type": "stream",
     "text": [
      "\u001b[32m[I 2020-10-27 11:36:06,148]\u001b[0m Trial 15 finished with value: 20321.5324977629 and parameters: {'p': 2, 'd': 1, 'q': 2, 'P': 2, 'D': 2, 'Q': 1}. Best is trial 4 with value: 4589.505891790481.\u001b[0m\n"
     ]
    },
    {
     "name": "stdout",
     "output_type": "stream",
     "text": [
      "Fold 2 loss: 8380.543532995356\n",
      "Fold 0 loss: 4684.809367999568\n",
      "Fold 1 loss: 6397.1321165953095\n"
     ]
    },
    {
     "name": "stderr",
     "output_type": "stream",
     "text": [
      "\u001b[32m[I 2020-10-27 11:36:12,820]\u001b[0m Trial 16 finished with value: 4589.505891790481 and parameters: {'p': 2, 'd': 1, 'q': 1, 'P': 1, 'D': 2, 'Q': 0}. Best is trial 4 with value: 4589.505891790481.\u001b[0m\n"
     ]
    },
    {
     "name": "stdout",
     "output_type": "stream",
     "text": [
      "Fold 2 loss: 2686.5761907765655\n",
      "Fold 0 loss: 4684.809367999568\n",
      "Fold 1 loss: 6397.1321165953095\n"
     ]
    },
    {
     "name": "stderr",
     "output_type": "stream",
     "text": [
      "\u001b[32m[I 2020-10-27 11:36:19,008]\u001b[0m Trial 17 finished with value: 4589.505891790481 and parameters: {'p': 2, 'd': 1, 'q': 1, 'P': 1, 'D': 2, 'Q': 0}. Best is trial 4 with value: 4589.505891790481.\u001b[0m\n"
     ]
    },
    {
     "name": "stdout",
     "output_type": "stream",
     "text": [
      "Fold 2 loss: 2686.5761907765655\n",
      "Fold 0 loss: 9741.630384996979\n",
      "Fold 1 loss: 11522.04724912397\n"
     ]
    },
    {
     "name": "stderr",
     "output_type": "stream",
     "text": [
      "\u001b[32m[I 2020-10-27 11:36:25,614]\u001b[0m Trial 18 finished with value: 9996.667255437571 and parameters: {'p': 2, 'd': 1, 'q': 0, 'P': 0, 'D': 2, 'Q': 1}. Best is trial 4 with value: 4589.505891790481.\u001b[0m\n"
     ]
    },
    {
     "name": "stdout",
     "output_type": "stream",
     "text": [
      "Fold 2 loss: 8726.324132191763\n",
      "Fold 0 loss: 4286.554373758245\n",
      "Fold 1 loss: 13217.265985603282\n"
     ]
    },
    {
     "name": "stderr",
     "output_type": "stream",
     "text": [
      "\u001b[32m[I 2020-10-27 11:36:51,701]\u001b[0m Trial 19 finished with value: 6731.273079580031 and parameters: {'p': 2, 'd': 2, 'q': 2, 'P': 2, 'D': 2, 'Q': 2}. Best is trial 4 with value: 4589.505891790481.\u001b[0m\n"
     ]
    },
    {
     "name": "stdout",
     "output_type": "stream",
     "text": [
      "Fold 2 loss: 2689.9988793785633\n"
     ]
    }
   ],
   "source": [
    "#perform hyperparameter search\n",
    "pl.optimize_hyperparams(20)"
   ]
  },
  {
   "cell_type": "markdown",
   "metadata": {},
   "source": [
    "# Inspect Results"
   ]
  },
  {
   "cell_type": "code",
   "execution_count": 7,
   "metadata": {},
   "outputs": [
    {
     "data": {
      "text/html": [
       "<div>\n",
       "<style scoped>\n",
       "    .dataframe tbody tr th:only-of-type {\n",
       "        vertical-align: middle;\n",
       "    }\n",
       "\n",
       "    .dataframe tbody tr th {\n",
       "        vertical-align: top;\n",
       "    }\n",
       "\n",
       "    .dataframe thead th {\n",
       "        text-align: right;\n",
       "    }\n",
       "</style>\n",
       "<table border=\"1\" class=\"dataframe\">\n",
       "  <thead>\n",
       "    <tr style=\"text-align: right;\">\n",
       "      <th></th>\n",
       "      <th>number</th>\n",
       "      <th>value</th>\n",
       "      <th>datetime_start</th>\n",
       "      <th>datetime_complete</th>\n",
       "      <th>duration</th>\n",
       "      <th>params_D</th>\n",
       "      <th>params_P</th>\n",
       "      <th>params_Q</th>\n",
       "      <th>params_d</th>\n",
       "      <th>params_p</th>\n",
       "      <th>params_q</th>\n",
       "      <th>state</th>\n",
       "    </tr>\n",
       "  </thead>\n",
       "  <tbody>\n",
       "    <tr>\n",
       "      <th>0</th>\n",
       "      <td>0</td>\n",
       "      <td>9741.191287</td>\n",
       "      <td>2020-10-27 11:34:36.577983</td>\n",
       "      <td>2020-10-27 11:34:38.832066</td>\n",
       "      <td>0 days 00:00:02.254083</td>\n",
       "      <td>1</td>\n",
       "      <td>1</td>\n",
       "      <td>1</td>\n",
       "      <td>1</td>\n",
       "      <td>2</td>\n",
       "      <td>0</td>\n",
       "      <td>COMPLETE</td>\n",
       "    </tr>\n",
       "    <tr>\n",
       "      <th>1</th>\n",
       "      <td>1</td>\n",
       "      <td>9366.071078</td>\n",
       "      <td>2020-10-27 11:34:38.833092</td>\n",
       "      <td>2020-10-27 11:34:43.265817</td>\n",
       "      <td>0 days 00:00:04.432725</td>\n",
       "      <td>1</td>\n",
       "      <td>2</td>\n",
       "      <td>0</td>\n",
       "      <td>1</td>\n",
       "      <td>2</td>\n",
       "      <td>1</td>\n",
       "      <td>COMPLETE</td>\n",
       "    </tr>\n",
       "    <tr>\n",
       "      <th>2</th>\n",
       "      <td>2</td>\n",
       "      <td>10134.601094</td>\n",
       "      <td>2020-10-27 11:34:43.266897</td>\n",
       "      <td>2020-10-27 11:34:44.042857</td>\n",
       "      <td>0 days 00:00:00.775960</td>\n",
       "      <td>1</td>\n",
       "      <td>1</td>\n",
       "      <td>0</td>\n",
       "      <td>1</td>\n",
       "      <td>0</td>\n",
       "      <td>2</td>\n",
       "      <td>COMPLETE</td>\n",
       "    </tr>\n",
       "    <tr>\n",
       "      <th>3</th>\n",
       "      <td>3</td>\n",
       "      <td>5640.904701</td>\n",
       "      <td>2020-10-27 11:34:44.043889</td>\n",
       "      <td>2020-10-27 11:34:44.322423</td>\n",
       "      <td>0 days 00:00:00.278534</td>\n",
       "      <td>2</td>\n",
       "      <td>0</td>\n",
       "      <td>0</td>\n",
       "      <td>1</td>\n",
       "      <td>0</td>\n",
       "      <td>0</td>\n",
       "      <td>COMPLETE</td>\n",
       "    </tr>\n",
       "    <tr>\n",
       "      <th>4</th>\n",
       "      <td>4</td>\n",
       "      <td>4589.505892</td>\n",
       "      <td>2020-10-27 11:34:44.323518</td>\n",
       "      <td>2020-10-27 11:34:48.998554</td>\n",
       "      <td>0 days 00:00:04.675036</td>\n",
       "      <td>2</td>\n",
       "      <td>1</td>\n",
       "      <td>0</td>\n",
       "      <td>1</td>\n",
       "      <td>2</td>\n",
       "      <td>1</td>\n",
       "      <td>COMPLETE</td>\n",
       "    </tr>\n",
       "    <tr>\n",
       "      <th>5</th>\n",
       "      <td>5</td>\n",
       "      <td>38182.488979</td>\n",
       "      <td>2020-10-27 11:34:48.999540</td>\n",
       "      <td>2020-10-27 11:34:51.104142</td>\n",
       "      <td>0 days 00:00:02.104602</td>\n",
       "      <td>1</td>\n",
       "      <td>0</td>\n",
       "      <td>2</td>\n",
       "      <td>2</td>\n",
       "      <td>1</td>\n",
       "      <td>0</td>\n",
       "      <td>COMPLETE</td>\n",
       "    </tr>\n",
       "    <tr>\n",
       "      <th>6</th>\n",
       "      <td>6</td>\n",
       "      <td>10553.521944</td>\n",
       "      <td>2020-10-27 11:34:51.105126</td>\n",
       "      <td>2020-10-27 11:34:59.508898</td>\n",
       "      <td>0 days 00:00:08.403772</td>\n",
       "      <td>1</td>\n",
       "      <td>0</td>\n",
       "      <td>2</td>\n",
       "      <td>2</td>\n",
       "      <td>1</td>\n",
       "      <td>2</td>\n",
       "      <td>COMPLETE</td>\n",
       "    </tr>\n",
       "    <tr>\n",
       "      <th>7</th>\n",
       "      <td>7</td>\n",
       "      <td>11925.485848</td>\n",
       "      <td>2020-10-27 11:34:59.509884</td>\n",
       "      <td>2020-10-27 11:35:07.156890</td>\n",
       "      <td>0 days 00:00:07.647006</td>\n",
       "      <td>2</td>\n",
       "      <td>1</td>\n",
       "      <td>1</td>\n",
       "      <td>1</td>\n",
       "      <td>1</td>\n",
       "      <td>0</td>\n",
       "      <td>COMPLETE</td>\n",
       "    </tr>\n",
       "    <tr>\n",
       "      <th>8</th>\n",
       "      <td>8</td>\n",
       "      <td>12182.298277</td>\n",
       "      <td>2020-10-27 11:35:07.157882</td>\n",
       "      <td>2020-10-27 11:35:17.860847</td>\n",
       "      <td>0 days 00:00:10.702965</td>\n",
       "      <td>2</td>\n",
       "      <td>2</td>\n",
       "      <td>1</td>\n",
       "      <td>1</td>\n",
       "      <td>1</td>\n",
       "      <td>1</td>\n",
       "      <td>COMPLETE</td>\n",
       "    </tr>\n",
       "    <tr>\n",
       "      <th>9</th>\n",
       "      <td>9</td>\n",
       "      <td>14266.290581</td>\n",
       "      <td>2020-10-27 11:35:17.862154</td>\n",
       "      <td>2020-10-27 11:35:21.588492</td>\n",
       "      <td>0 days 00:00:03.726338</td>\n",
       "      <td>2</td>\n",
       "      <td>0</td>\n",
       "      <td>0</td>\n",
       "      <td>2</td>\n",
       "      <td>1</td>\n",
       "      <td>2</td>\n",
       "      <td>COMPLETE</td>\n",
       "    </tr>\n",
       "    <tr>\n",
       "      <th>10</th>\n",
       "      <td>10</td>\n",
       "      <td>8501.131378</td>\n",
       "      <td>2020-10-27 11:35:21.589517</td>\n",
       "      <td>2020-10-27 11:35:30.399296</td>\n",
       "      <td>0 days 00:00:08.809779</td>\n",
       "      <td>2</td>\n",
       "      <td>2</td>\n",
       "      <td>0</td>\n",
       "      <td>2</td>\n",
       "      <td>2</td>\n",
       "      <td>1</td>\n",
       "      <td>COMPLETE</td>\n",
       "    </tr>\n",
       "    <tr>\n",
       "      <th>11</th>\n",
       "      <td>11</td>\n",
       "      <td>4768.775562</td>\n",
       "      <td>2020-10-27 11:35:30.400588</td>\n",
       "      <td>2020-10-27 11:35:33.447164</td>\n",
       "      <td>0 days 00:00:03.046576</td>\n",
       "      <td>2</td>\n",
       "      <td>1</td>\n",
       "      <td>0</td>\n",
       "      <td>1</td>\n",
       "      <td>0</td>\n",
       "      <td>1</td>\n",
       "      <td>COMPLETE</td>\n",
       "    </tr>\n",
       "    <tr>\n",
       "      <th>12</th>\n",
       "      <td>12</td>\n",
       "      <td>4768.775562</td>\n",
       "      <td>2020-10-27 11:35:33.448179</td>\n",
       "      <td>2020-10-27 11:35:36.462529</td>\n",
       "      <td>0 days 00:00:03.014350</td>\n",
       "      <td>2</td>\n",
       "      <td>1</td>\n",
       "      <td>0</td>\n",
       "      <td>1</td>\n",
       "      <td>0</td>\n",
       "      <td>1</td>\n",
       "      <td>COMPLETE</td>\n",
       "    </tr>\n",
       "    <tr>\n",
       "      <th>13</th>\n",
       "      <td>13</td>\n",
       "      <td>8677.082652</td>\n",
       "      <td>2020-10-27 11:35:36.463503</td>\n",
       "      <td>2020-10-27 11:35:40.954385</td>\n",
       "      <td>0 days 00:00:04.490882</td>\n",
       "      <td>2</td>\n",
       "      <td>1</td>\n",
       "      <td>1</td>\n",
       "      <td>1</td>\n",
       "      <td>0</td>\n",
       "      <td>1</td>\n",
       "      <td>COMPLETE</td>\n",
       "    </tr>\n",
       "    <tr>\n",
       "      <th>14</th>\n",
       "      <td>14</td>\n",
       "      <td>4589.505892</td>\n",
       "      <td>2020-10-27 11:35:40.955373</td>\n",
       "      <td>2020-10-27 11:35:45.746583</td>\n",
       "      <td>0 days 00:00:04.791210</td>\n",
       "      <td>2</td>\n",
       "      <td>1</td>\n",
       "      <td>0</td>\n",
       "      <td>1</td>\n",
       "      <td>2</td>\n",
       "      <td>1</td>\n",
       "      <td>COMPLETE</td>\n",
       "    </tr>\n",
       "    <tr>\n",
       "      <th>15</th>\n",
       "      <td>15</td>\n",
       "      <td>20321.532498</td>\n",
       "      <td>2020-10-27 11:35:45.747606</td>\n",
       "      <td>2020-10-27 11:36:06.148503</td>\n",
       "      <td>0 days 00:00:20.400897</td>\n",
       "      <td>2</td>\n",
       "      <td>2</td>\n",
       "      <td>1</td>\n",
       "      <td>1</td>\n",
       "      <td>2</td>\n",
       "      <td>2</td>\n",
       "      <td>COMPLETE</td>\n",
       "    </tr>\n",
       "    <tr>\n",
       "      <th>16</th>\n",
       "      <td>16</td>\n",
       "      <td>4589.505892</td>\n",
       "      <td>2020-10-27 11:36:06.150218</td>\n",
       "      <td>2020-10-27 11:36:12.820299</td>\n",
       "      <td>0 days 00:00:06.670081</td>\n",
       "      <td>2</td>\n",
       "      <td>1</td>\n",
       "      <td>0</td>\n",
       "      <td>1</td>\n",
       "      <td>2</td>\n",
       "      <td>1</td>\n",
       "      <td>COMPLETE</td>\n",
       "    </tr>\n",
       "    <tr>\n",
       "      <th>17</th>\n",
       "      <td>17</td>\n",
       "      <td>4589.505892</td>\n",
       "      <td>2020-10-27 11:36:12.821357</td>\n",
       "      <td>2020-10-27 11:36:19.008526</td>\n",
       "      <td>0 days 00:00:06.187169</td>\n",
       "      <td>2</td>\n",
       "      <td>1</td>\n",
       "      <td>0</td>\n",
       "      <td>1</td>\n",
       "      <td>2</td>\n",
       "      <td>1</td>\n",
       "      <td>COMPLETE</td>\n",
       "    </tr>\n",
       "    <tr>\n",
       "      <th>18</th>\n",
       "      <td>18</td>\n",
       "      <td>9996.667255</td>\n",
       "      <td>2020-10-27 11:36:19.009656</td>\n",
       "      <td>2020-10-27 11:36:25.613666</td>\n",
       "      <td>0 days 00:00:06.604010</td>\n",
       "      <td>2</td>\n",
       "      <td>0</td>\n",
       "      <td>1</td>\n",
       "      <td>1</td>\n",
       "      <td>2</td>\n",
       "      <td>0</td>\n",
       "      <td>COMPLETE</td>\n",
       "    </tr>\n",
       "    <tr>\n",
       "      <th>19</th>\n",
       "      <td>19</td>\n",
       "      <td>6731.273080</td>\n",
       "      <td>2020-10-27 11:36:25.614720</td>\n",
       "      <td>2020-10-27 11:36:51.701121</td>\n",
       "      <td>0 days 00:00:26.086401</td>\n",
       "      <td>2</td>\n",
       "      <td>2</td>\n",
       "      <td>2</td>\n",
       "      <td>2</td>\n",
       "      <td>2</td>\n",
       "      <td>2</td>\n",
       "      <td>COMPLETE</td>\n",
       "    </tr>\n",
       "  </tbody>\n",
       "</table>\n",
       "</div>"
      ],
      "text/plain": [
       "    number         value             datetime_start  \\\n",
       "0        0   9741.191287 2020-10-27 11:34:36.577983   \n",
       "1        1   9366.071078 2020-10-27 11:34:38.833092   \n",
       "2        2  10134.601094 2020-10-27 11:34:43.266897   \n",
       "3        3   5640.904701 2020-10-27 11:34:44.043889   \n",
       "4        4   4589.505892 2020-10-27 11:34:44.323518   \n",
       "5        5  38182.488979 2020-10-27 11:34:48.999540   \n",
       "6        6  10553.521944 2020-10-27 11:34:51.105126   \n",
       "7        7  11925.485848 2020-10-27 11:34:59.509884   \n",
       "8        8  12182.298277 2020-10-27 11:35:07.157882   \n",
       "9        9  14266.290581 2020-10-27 11:35:17.862154   \n",
       "10      10   8501.131378 2020-10-27 11:35:21.589517   \n",
       "11      11   4768.775562 2020-10-27 11:35:30.400588   \n",
       "12      12   4768.775562 2020-10-27 11:35:33.448179   \n",
       "13      13   8677.082652 2020-10-27 11:35:36.463503   \n",
       "14      14   4589.505892 2020-10-27 11:35:40.955373   \n",
       "15      15  20321.532498 2020-10-27 11:35:45.747606   \n",
       "16      16   4589.505892 2020-10-27 11:36:06.150218   \n",
       "17      17   4589.505892 2020-10-27 11:36:12.821357   \n",
       "18      18   9996.667255 2020-10-27 11:36:19.009656   \n",
       "19      19   6731.273080 2020-10-27 11:36:25.614720   \n",
       "\n",
       "            datetime_complete               duration  params_D  params_P  \\\n",
       "0  2020-10-27 11:34:38.832066 0 days 00:00:02.254083         1         1   \n",
       "1  2020-10-27 11:34:43.265817 0 days 00:00:04.432725         1         2   \n",
       "2  2020-10-27 11:34:44.042857 0 days 00:00:00.775960         1         1   \n",
       "3  2020-10-27 11:34:44.322423 0 days 00:00:00.278534         2         0   \n",
       "4  2020-10-27 11:34:48.998554 0 days 00:00:04.675036         2         1   \n",
       "5  2020-10-27 11:34:51.104142 0 days 00:00:02.104602         1         0   \n",
       "6  2020-10-27 11:34:59.508898 0 days 00:00:08.403772         1         0   \n",
       "7  2020-10-27 11:35:07.156890 0 days 00:00:07.647006         2         1   \n",
       "8  2020-10-27 11:35:17.860847 0 days 00:00:10.702965         2         2   \n",
       "9  2020-10-27 11:35:21.588492 0 days 00:00:03.726338         2         0   \n",
       "10 2020-10-27 11:35:30.399296 0 days 00:00:08.809779         2         2   \n",
       "11 2020-10-27 11:35:33.447164 0 days 00:00:03.046576         2         1   \n",
       "12 2020-10-27 11:35:36.462529 0 days 00:00:03.014350         2         1   \n",
       "13 2020-10-27 11:35:40.954385 0 days 00:00:04.490882         2         1   \n",
       "14 2020-10-27 11:35:45.746583 0 days 00:00:04.791210         2         1   \n",
       "15 2020-10-27 11:36:06.148503 0 days 00:00:20.400897         2         2   \n",
       "16 2020-10-27 11:36:12.820299 0 days 00:00:06.670081         2         1   \n",
       "17 2020-10-27 11:36:19.008526 0 days 00:00:06.187169         2         1   \n",
       "18 2020-10-27 11:36:25.613666 0 days 00:00:06.604010         2         0   \n",
       "19 2020-10-27 11:36:51.701121 0 days 00:00:26.086401         2         2   \n",
       "\n",
       "    params_Q  params_d  params_p  params_q     state  \n",
       "0          1         1         2         0  COMPLETE  \n",
       "1          0         1         2         1  COMPLETE  \n",
       "2          0         1         0         2  COMPLETE  \n",
       "3          0         1         0         0  COMPLETE  \n",
       "4          0         1         2         1  COMPLETE  \n",
       "5          2         2         1         0  COMPLETE  \n",
       "6          2         2         1         2  COMPLETE  \n",
       "7          1         1         1         0  COMPLETE  \n",
       "8          1         1         1         1  COMPLETE  \n",
       "9          0         2         1         2  COMPLETE  \n",
       "10         0         2         2         1  COMPLETE  \n",
       "11         0         1         0         1  COMPLETE  \n",
       "12         0         1         0         1  COMPLETE  \n",
       "13         1         1         0         1  COMPLETE  \n",
       "14         0         1         2         1  COMPLETE  \n",
       "15         1         1         2         2  COMPLETE  \n",
       "16         0         1         2         1  COMPLETE  \n",
       "17         0         1         2         1  COMPLETE  \n",
       "18         1         1         2         0  COMPLETE  \n",
       "19         2         2         2         2  COMPLETE  "
      ]
     },
     "execution_count": 7,
     "metadata": {},
     "output_type": "execute_result"
    }
   ],
   "source": [
    "pl.study.trials_dataframe()"
   ]
  },
  {
   "cell_type": "markdown",
   "metadata": {},
   "source": [
    "# Best Hyperparameters"
   ]
  },
  {
   "cell_type": "code",
   "execution_count": 17,
   "metadata": {},
   "outputs": [
    {
     "name": "stdout",
     "output_type": "stream",
     "text": [
      "Lowest RMSE:  4589.505891790481\n"
     ]
    }
   ],
   "source": [
    "print(f\"Lowest RMSE:  {pl.study.best_trial.value}\")"
   ]
  },
  {
   "cell_type": "code",
   "execution_count": 20,
   "metadata": {},
   "outputs": [
    {
     "name": "stdout",
     "output_type": "stream",
     "text": [
      "Best hyperparameters {'p': 2, 'd': 1, 'q': 1, 'P': 1, 'D': 2, 'Q': 0}\n"
     ]
    }
   ],
   "source": [
    "print(f\"Best hyperparameters {pl.study.best_trial.params}\")"
   ]
  },
  {
   "cell_type": "markdown",
   "metadata": {},
   "source": [
    "# Retrain and Predict"
   ]
  },
  {
   "cell_type": "code",
   "execution_count": 3,
   "metadata": {},
   "outputs": [
    {
     "data": {
      "text/plain": [
       "2020-01-01    913406.986707\n",
       "2020-02-01    931073.446764\n",
       "2020-03-01    946843.858653\n",
       "2020-04-01    958013.946051\n",
       "2020-05-01    941466.080731\n",
       "2020-06-01    918165.079706\n",
       "2020-07-01    897016.434529\n",
       "2020-08-01    895454.087042\n",
       "2020-09-01    907261.361472\n",
       "2020-10-01    909086.914593\n",
       "2020-11-01    905731.074563\n",
       "2020-12-01    893946.145016\n",
       "Freq: MS, Name: predicted_mean, dtype: float64"
      ]
     },
     "execution_count": 3,
     "metadata": {},
     "output_type": "execute_result"
    }
   ],
   "source": [
    "#set best hyperparams\n",
    "params = {\"order\": (2, 1, 1), \"seasonal_order\": (1, 2, 0, 24), \"trend\": \"c\", \"freq\": \"MS\"}\n",
    "#train model on full training set\n",
    "model = SARIMA(train, **params)\n",
    "model.train()\n",
    "#make predictions for 2020\n",
    "preds = model.pred(steps = 12)\n",
    "preds"
   ]
  },
  {
   "cell_type": "markdown",
   "metadata": {},
   "source": [
    "# Save Model"
   ]
  },
  {
   "cell_type": "code",
   "execution_count": 4,
   "metadata": {},
   "outputs": [],
   "source": [
    "save_model(model, \"../models/sarima.pkl\")"
   ]
  },
  {
   "cell_type": "markdown",
   "metadata": {},
   "source": [
    "# Plot Predictions"
   ]
  },
  {
   "cell_type": "code",
   "execution_count": 7,
   "metadata": {},
   "outputs": [
    {
     "data": {
      "image/png": "[encoded data removed]",
      "text/plain": [
       "<Figure size 864x432 with 1 Axes>"
      ]
     },
     "metadata": {
      "needs_background": "light"
     },
     "output_type": "display_data"
    }
   ],
   "source": [
    "fig, ax = plt.subplots(figsize = (12, 6))\n",
    "ax.plot(train)\n",
    "ax.plot(preds)\n",
    "ax.set_title(\"Time Series, Purchase Amount\")\n",
    "ax.set_xlabel(\"Date\")\n",
    "ax.set_ylabel(\"Purchase Amount\")\n",
    "plt.show()"
   ]
  },
  {
   "cell_type": "markdown",
   "metadata": {},
   "source": [
    "# Save Predictions"
   ]
  },
  {
   "cell_type": "code",
   "execution_count": 8,
   "metadata": {},
   "outputs": [],
   "source": [
    "#store predictions for test data and merge with training data\n",
    "test[\"purchase_amount\"] = preds\n",
    "df = pd.concat([train, test], axis = 0).reset_index()"
   ]
  },
  {
   "cell_type": "code",
   "execution_count": 9,
   "metadata": {},
   "outputs": [],
   "source": [
    "df.to_csv(\"../data/processed/predictions.csv\", index = False)"
   ]
  }
 ],
 "metadata": {
  "kernelspec": {
   "display_name": "Python 3",
   "language": "python",
   "name": "python3"
  },
  "language_info": {
   "codemirror_mode": {
    "name": "ipython",
    "version": 3
   },
   "file_extension": ".py",
   "mimetype": "text/x-python",
   "name": "python",
   "nbconvert_exporter": "python",
   "pygments_lexer": "ipython3",
   "version": "3.7.7"
  }
 },
 "nbformat": 4,
 "nbformat_minor": 4
}
